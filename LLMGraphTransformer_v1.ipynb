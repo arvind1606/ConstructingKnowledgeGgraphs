{
 "cells": [
  {
   "cell_type": "markdown",
   "id": "d0b6b7ba-5f28-4152-8f10-952c2df41765",
   "metadata": {},
   "source": [
    "# LLM Graph Transformer\n",
    "The LLMGraphTransformer converts text documents into structured graph documents by leveraging a LLM to parse and categorize entities and their relationships. "
   ]
  },
  {
   "cell_type": "code",
   "execution_count": 1,
   "id": "bfe11119-5c5f-447a-b3fa-8d6d61d5119f",
   "metadata": {},
   "outputs": [],
   "source": [
    "import os\n",
    "import openai\n",
    "\n",
    "from openai import AzureOpenAI\n",
    "from langchain_openai import AzureChatOpenAI\n",
    "\n",
    "from langchain.embeddings.openai import OpenAIEmbeddings\n",
    "from langchain_openai import AzureOpenAIEmbeddings\n",
    "\n",
    "from langchain_experimental.graph_transformers import LLMGraphTransformer"
   ]
  },
  {
   "cell_type": "code",
   "execution_count": 2,
   "id": "a9340b05-8e31-4f03-8251-5070a47dc624",
   "metadata": {},
   "outputs": [
    {
     "data": {
      "text/plain": [
       "True"
      ]
     },
     "execution_count": 2,
     "metadata": {},
     "output_type": "execute_result"
    }
   ],
   "source": [
    "from dotenv import load_dotenv\n",
    "load_dotenv()"
   ]
  },
  {
   "cell_type": "code",
   "execution_count": 3,
   "id": "ed2f1dbd-6d48-409b-bfce-1c59b80a51ee",
   "metadata": {},
   "outputs": [],
   "source": [
    "api_key = os.getenv(\"openai_api_key\")\n",
    "api_base =  os.getenv(\"azure_endpoint\")\n",
    "api_type = os.getenv(\"openai_api_type\")\n",
    "api_version = os.getenv(\"openai_api_version\")\n",
    "\n",
    "deployment_id = os.getenv(\"openai_model_gpt_name\")\n",
    "\n",
    "gpt_model = os.getenv(\"openai_model_gpt_name\")\n",
    "model_engine = os.getenv(\"openai_model_gpt_name\")\n",
    "embd_model = os.getenv(\"openai_model_embd_name\")\n",
    "\n",
    "# os.environ[\"OPENAI_API_KEY\"] = os.getenv(\"api_key\")\n",
    "os.environ[\"AZURE_OPENAI_ENDPOINT\"] = api_base\n",
    "# os.environ[\"OPENAI_API_TYPE\"] = os.getenv(\"api_type\")\n",
    "os.environ[\"OPENAI_API_VERSION\"] = api_version"
   ]
  },
  {
   "cell_type": "code",
   "execution_count": 4,
   "id": "5f3226a5-38b4-4195-87a8-ede812f8e2f9",
   "metadata": {},
   "outputs": [],
   "source": [
    "llm = AzureChatOpenAI(\n",
    "    api_key=api_key,\n",
    "    openai_api_version=\"2023-05-15\",\n",
    "    azure_deployment=gpt_model,\n",
    ")"
   ]
  },
  {
   "cell_type": "markdown",
   "id": "7981258d-c07d-4c71-bea0-d8e98cb1de3a",
   "metadata": {},
   "source": [
    "#### Next, we need to define Neo4j credentials and connection. Follow these installation steps to set up a Neo4j database.\n",
    "\n"
   ]
  },
  {
   "cell_type": "code",
   "execution_count": 5,
   "id": "1e96be58-0a08-41e8-a9cb-b8b9b3335c32",
   "metadata": {},
   "outputs": [],
   "source": [
    "import os\n",
    "\n",
    "from langchain_community.graphs import Neo4jGraph\n",
    "\n",
    "os.environ[\"NEO4J_URI\"] = \"bolt://localhost:7687\"\n",
    "os.environ[\"NEO4J_USERNAME\"] = \"neo4j\"\n",
    "os.environ[\"NEO4J_PASSWORD\"] = \"password\"\n",
    "\n",
    "graph = Neo4jGraph()"
   ]
  },
  {
   "cell_type": "markdown",
   "id": "0178fba4-7154-4d13-8f3e-e603f1500417",
   "metadata": {},
   "source": [
    "#### The LLMGraphTransformer converts text documents into structured graph documents by leveraging a LLM to parse and categorize entities and their relationships. "
   ]
  },
  {
   "cell_type": "code",
   "execution_count": 6,
   "id": "0d5cf568-364a-4d04-bb03-daeab75a4eff",
   "metadata": {},
   "outputs": [],
   "source": [
    "llm_transformer = LLMGraphTransformer(llm=llm)"
   ]
  },
  {
   "cell_type": "code",
   "execution_count": 7,
   "id": "4fba24cb-3cdc-4e13-a356-a4e151b7de4f",
   "metadata": {},
   "outputs": [],
   "source": [
    "from langchain_core.documents import Document\n",
    "\n",
    "text = \"\"\"\n",
    "Marie Curie, was a Polish and naturalised-French physicist and chemist who conducted pioneering research on radioactivity.\n",
    "She was the first woman to win a Nobel Prize, the first person to win a Nobel Prize twice, and the only person to win a Nobel Prize in two scientific fields.\n",
    "Her husband, Pierre Curie, was a co-winner of her first Nobel Prize, making them the first-ever married couple to win the Nobel Prize and launching the Curie family legacy of five Nobel Prizes.\n",
    "She was, in 1906, the first woman to become a professor at the University of Paris.\n",
    "\"\"\"\n",
    "documents = [Document(page_content=text)]"
   ]
  },
  {
   "cell_type": "code",
   "execution_count": 8,
   "id": "6001e1e1-5c53-4917-93c8-cd66b254545b",
   "metadata": {},
   "outputs": [
    {
     "name": "stdout",
     "output_type": "stream",
     "text": [
      "Nodes:[Node(id='Marie Curie', type='Person'), Node(id='Pierre Curie', type='Person'), Node(id='Nobel Prize', type='Award'), Node(id='University Of Paris', type='Organization'), Node(id='Curie Family', type='Family'), Node(id='Radioactivity', type='Scientific field')]\n",
      "Relationships:[Relationship(source=Node(id='Marie Curie', type='Person'), target=Node(id='Radioactivity', type='Scientific field'), type='CONDUCTED_RESEARCH_ON'), Relationship(source=Node(id='Marie Curie', type='Person'), target=Node(id='Nobel Prize', type='Award'), type='WON'), Relationship(source=Node(id='Pierre Curie', type='Person'), target=Node(id='Nobel Prize', type='Award'), type='WON'), Relationship(source=Node(id='Marie Curie', type='Person'), target=Node(id='University Of Paris', type='Organization'), type='BECAME_PROFESSOR_AT'), Relationship(source=Node(id='Marie Curie', type='Person'), target=Node(id='Curie Family', type='Family'), type='PART_OF'), Relationship(source=Node(id='Pierre Curie', type='Person'), target=Node(id='Curie Family', type='Family'), type='PART_OF')]\n"
     ]
    }
   ],
   "source": [
    "graph_documents = llm_transformer.convert_to_graph_documents(documents)\n",
    "print(f\"Nodes:{graph_documents[0].nodes}\")\n",
    "print(f\"Relationships:{graph_documents[0].relationships}\")"
   ]
  },
  {
   "cell_type": "markdown",
   "id": "e0b4cd68-cd25-4574-b660-e02816da591e",
   "metadata": {},
   "source": [
    "## Storing to graph database"
   ]
  },
  {
   "cell_type": "code",
   "execution_count": 20,
   "id": "a679f48f-26f7-4fcf-b881-b18f9fb18d43",
   "metadata": {},
   "outputs": [],
   "source": [
    "graph.add_graph_documents(graph_documents)"
   ]
  },
  {
   "cell_type": "markdown",
   "id": "4ba4930d-0c82-417d-a57e-757004dd49f5",
   "metadata": {},
   "source": [
    "### Note that the graph construction process is non-deterministic since we are using LLM. Therefore, you might get slightly different results on each execution."
   ]
  },
  {
   "cell_type": "code",
   "execution_count": 21,
   "id": "c9aef006-4277-48e2-96f0-94cab7ac7b83",
   "metadata": {},
   "outputs": [
    {
     "name": "stdout",
     "output_type": "stream",
     "text": [
      "Nodes:[Node(id='Marie Curie', type='Person'), Node(id='Pierre Curie', type='Person'), Node(id='Poland', type='Country'), Node(id='France', type='Country'), Node(id='University Of Paris', type='Organization')]\n",
      "Relationships:[Relationship(source=Node(id='Marie Curie', type='Person'), target=Node(id='Poland', type='Country'), type='NATIONALITY'), Relationship(source=Node(id='Marie Curie', type='Person'), target=Node(id='France', type='Country'), type='NATIONALITY'), Relationship(source=Node(id='Marie Curie', type='Person'), target=Node(id='Pierre Curie', type='Person'), type='SPOUSE'), Relationship(source=Node(id='Marie Curie', type='Person'), target=Node(id='University Of Paris', type='Organization'), type='WORKED_AT')]\n"
     ]
    }
   ],
   "source": [
    "llm_transformer_filtered = LLMGraphTransformer(\n",
    "    llm=llm,\n",
    "    allowed_nodes=[\"Person\", \"Country\", \"Organization\"],\n",
    "    allowed_relationships=[\"NATIONALITY\", \"LOCATED_IN\", \"WORKED_AT\", \"SPOUSE\"],\n",
    ")\n",
    "graph_documents_filtered = llm_transformer_filtered.convert_to_graph_documents(\n",
    "    documents\n",
    ")\n",
    "print(f\"Nodes:{graph_documents_filtered[0].nodes}\")\n",
    "print(f\"Relationships:{graph_documents_filtered[0].relationships}\")"
   ]
  },
  {
   "cell_type": "code",
   "execution_count": 23,
   "id": "89e45534-9ff9-4a4e-869d-cd1f64d9a218",
   "metadata": {},
   "outputs": [],
   "source": [
    "graph.add_graph_documents(graph_documents_filtered)"
   ]
  },
  {
   "cell_type": "code",
   "execution_count": null,
   "id": "1b3edac3-8c2e-4d1c-83ea-b8177b1acab8",
   "metadata": {},
   "outputs": [],
   "source": []
  },
  {
   "cell_type": "code",
   "execution_count": null,
   "id": "7ac9777e-f660-487b-a90f-2cf603c7c283",
   "metadata": {},
   "outputs": [],
   "source": []
  }
 ],
 "metadata": {
  "kernelspec": {
   "display_name": "env_bdo",
   "language": "python",
   "name": "env_bdo"
  },
  "language_info": {
   "codemirror_mode": {
    "name": "ipython",
    "version": 3
   },
   "file_extension": ".py",
   "mimetype": "text/x-python",
   "name": "python",
   "nbconvert_exporter": "python",
   "pygments_lexer": "ipython3",
   "version": "3.11.5"
  }
 },
 "nbformat": 4,
 "nbformat_minor": 5
}
